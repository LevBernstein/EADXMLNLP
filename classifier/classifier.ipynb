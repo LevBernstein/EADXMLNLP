{
 "cells": [
  {
   "attachments": {},
   "cell_type": "markdown",
   "metadata": {},
   "source": [
    "Sentence Classifier"
   ]
  },
  {
   "cell_type": "code",
   "execution_count": 41,
   "metadata": {},
   "outputs": [],
   "source": [
    "import numpy as np\n",
    "import pandas as pd\n",
    "import csv\n",
    "import nltk\n",
    "import re"
   ]
  },
  {
   "cell_type": "code",
   "execution_count": 8,
   "metadata": {},
   "outputs": [
    {
     "name": "stdout",
     "output_type": "stream",
     "text": [
      "['access', 'accession', 'accretion', 'accrual', 'acquisition']\n",
      "['work', 'working files', 'workstation', 'writ', 'write']\n"
     ]
    }
   ],
   "source": [
    "termsFile = open(\"ProcessTerms.csv\",\"r\")\n",
    "termsList = [x[0] for x in list(csv.reader(termsFile, delimiter=\",\"))]\n",
    "termsFile.close()\n",
    "\n",
    "print(termsList[:5])\n",
    "print(termsList[-5:])"
   ]
  },
  {
   "cell_type": "code",
   "execution_count": 19,
   "metadata": {},
   "outputs": [
    {
     "name": "stdout",
     "output_type": "stream",
     "text": [
      "the henriette d. avram marc development collection contains items originating primarily during the period from 1966 to 1976 although there are some materials from the early 1960s, late 1970s, and early 1980s. the contents of the collection are described below in the context of the major accomplishments of the program and the resulting publications. the following essay documents the provenance and organization of the collection, creation and development of the marc standard, and automation activities in the library of congress. it is reproduced from lenore maruyama's \"the marc archives: a register of records in the library of congress\" (may 8, 1987, 74 pp.), which is available in the manuscript reading room. it has been revised to conform to current standards for finding aids in the manuscript division. office files covering the marc pilot project and the activities of the marc development office through the early 1970s. these items had been placed in storage with the central services division. office files from the marc development office, which had been disbanded in 1977. functions had been divided among the automated systems office, the network development and marc standards office, and the automation planning and liaison office. these items had been transferred to the automated systems office and had been placed in storage with the central services division. some of the office files from the office of the information systems specialist and most of the files from the information systems office from about 1964-1977, with some items from the automated systems office dating from the early 1980s, have also been placed in storage with the central services division. although there are some items related to the marc pilot project, the marc system, and the marc development office, most of these files deal with the automation efforts taking place before marc or outside the scope of marc. office files from processing services department that contained materials about automation of technical processing, activities and projects of the marc development office (which was a unit under processing services), and activities of ansi z39. these items had been placed in storage with the central services division. office files containing materials about automation at the library of congress around the late 1960s and the early 1970s from the former assistant librarian of congress, elizabeth hamer kegan. these items had been placed in storage with the central services division. office files containing materials about projects like the comarc pilot project or the marc formats (including the bibliographic codes and character sets and the liaison with users) that had been the responsibility of the marc development office. in addition, materials from more recent efforts, such as the network advisory committee, network technical architecture group, linked systems project, national level bibliographic record documents, network data base design project, or international marc projects (including the work done by the british in the late 1960s), have been included, as well as numerous publications about or by library network organizations. these items had been obtained directly from the office. office files and publications kept by patricia e. parker and gail l. hitchcock, who as staff members of the marc development office, were responsible for maintaining the editing guides and internal specification documents and a collection of items published by staff of the marc development office. ms. parker was also involved with the standardization work for bibliographic codes. these items were transferred directly from these individuals. other miscellaneous publications had been collected by other staff members. office files from kay d. guiles containing items about the international meeting(s) of cataloging experts, the international standard bibliographic description, miscellaneous items about the recon pilot project and the early days of the marc distribution service, and copies of correspondence from 1968-1976. as the senior bibliographic specialist in the marc development office he was responsible for the coordination with the cataloging divisions concerning the impact of the (new) cataloging code on the marc formats and the implementation of the new cataloging rules. these items were transferred directly from mr. guiles' office. personal files from henriette d. avram containing miscellaneous items about marc and recon, an assortment of publications, copies of articles or reprints about her (but not by her), and letters from the participants of the marc pilot project accepting the invitation from the library to participate in the project. in addition, a number of souvenirs or memorabilia have been included. these items were transferred directly from mrs. avram's files. a bibliography of items written by mrs. avram has been updated through 1988 and is included in the archives. copies of annual reports collected for the archive and miscellaneous publications. office files from the technical process research office and copies of drafts, reprints, and other documents prepared by the staff members of tpro, which was disbanded in 1976. also microfilm copy of official catalog sample, listings, and copies of cards pulled in june 1969. plus a comarc notebook, the iss planning memorandum series, the marc planning paper series, and other miscellaneous publications dealing with an automated technical processing system at the library of congress. ms. biebel was a staff member of tpro and had worked on the comarc project. office files from the office of the information systems office from the early 1960s to about 1967. these files contain materials related to early automation efforts, including the conference on libraries and automation held in 1963, the king survey (of automation at the library of congress), the programming and systems analysis services provided by united aircraft for the marc pilot project and the overall automation program at lc, and the survey conducted by nelson associates for the national serials data program. these items had been placed in storage with the central services division. office and personal files from the late josephine s. pulsifer, who, in addition to being a staff member of the marc development office and the automation planning and liaison office, had worked for the washington state library at the time of the marc pilot project and later for a consultant in the washington area. most of the items consist of background material for the first edition of a marc history and the publications collected for a bibliography of works written by henriette d. avram. miscellaneous reports and documents that have been obtained sporadically to add to the archives. includes several photographs. copies of some items from contract files of the council on library resources, washington, d.c., dealing with projects sponsored by the council that predated and were the precursors of the marc pilot project. although the library of congress had been involved with these projects, the studies were performed by an outside consultant. also included some of the items dealing with the marc pilot project. the records of the henriette d. avram marc development collection were processed in 1987 by lenore s. maruyama, maruyama associates, inc., arlington, va. the finding aid was revised in 1989 and 2017. this collection is arranged in fourteen series: arranged in three subseries: automated systems office/marc development office; office of the information systems specialist; and information systems office\n"
     ]
    }
   ],
   "source": [
    "textFile = open(\"0.txt\",\"r\")\n",
    "textStr = textFile.readlines()[0]\n",
    "textFile.close()\n",
    "\n",
    "print(textStr)"
   ]
  },
  {
   "cell_type": "code",
   "execution_count": 60,
   "metadata": {},
   "outputs": [
    {
     "data": {
      "text/plain": [
       "['the henriette d avram marc development collection contains items originating primarily during the period from  to  although there are some materials from the early s late s and early s',\n",
       " 'the contents of the collection are described below in the context of the major accomplishments of the program and the resulting publications',\n",
       " 'the following essay documents the provenance and organization of the collection creation and development of the marc standard and automation activities in the library of congress',\n",
       " 'it is reproduced from lenore maruyamas the marc archives a register of records in the library of congress may    pp which is available in the manuscript reading room',\n",
       " 'it has been revised to conform to current standards for finding aids in the manuscript division']"
      ]
     },
     "execution_count": 60,
     "metadata": {},
     "output_type": "execute_result"
    }
   ],
   "source": [
    "def removePunctuation(text):\n",
    "    return re.sub(r'[^\\w\\s]', '', text)\n",
    "\n",
    "def removeNumbers(text):\n",
    "    return re.sub(r'[0-9]', '', text)\n",
    "\n",
    "def sentenceSplit(text):\n",
    "    text = text.replace('pp.','pp') # So that \"pp.\" doesn't trigger a sentence split\n",
    "    tokenizer = nltk.data.load('tokenizers/punkt/english.pickle')\n",
    "    return [removePunctuation(removeNumbers(sentence)) for sentence in tokenizer.tokenize(text)]\n",
    "\n",
    "sentenceSplit(textStr)[:5]"
   ]
  },
  {
   "cell_type": "code",
   "execution_count": 67,
   "metadata": {},
   "outputs": [
    {
     "data": {
      "text/plain": [
       "['it',\n",
       " 'is',\n",
       " 'reproduced',\n",
       " 'from',\n",
       " 'lenore',\n",
       " 'maruyamas',\n",
       " 'the',\n",
       " 'marc',\n",
       " 'archives',\n",
       " 'a',\n",
       " 'register',\n",
       " 'of',\n",
       " 'records',\n",
       " 'in',\n",
       " 'the',\n",
       " 'library',\n",
       " 'of',\n",
       " 'congress',\n",
       " 'may',\n",
       " 'pp',\n",
       " 'which',\n",
       " 'is',\n",
       " 'available',\n",
       " 'in',\n",
       " 'the',\n",
       " 'manuscript',\n",
       " 'reading',\n",
       " 'room']"
      ]
     },
     "execution_count": 67,
     "metadata": {},
     "output_type": "execute_result"
    }
   ],
   "source": [
    "sents = sentenceSplit(textStr)[:5]\n",
    "\n",
    "def tokenize(text):\n",
    "    return [x for x in text.split(' ') if x != '']\n",
    "\n",
    "tokenize(sents[3])"
   ]
  },
  {
   "cell_type": "code",
   "execution_count": null,
   "metadata": {},
   "outputs": [],
   "source": []
  },
  {
   "attachments": {},
   "cell_type": "markdown",
   "metadata": {},
   "source": [
    "# Plan:\n",
    "\n",
    "1. Generate N per-FA keywords via TF-IDF for the paper within the whole corpus (adjust N as hyperparameter? start around 10)\n",
    "2. Use pre-existing keywords as archiving practice identifiers (try with all of them, or maybe just most common N if that has trouble training)\n",
    "3. Test Lbl2Vec using sentences as documents in this case"
   ]
  }
 ],
 "metadata": {
  "kernelspec": {
   "display_name": "base",
   "language": "python",
   "name": "python3"
  },
  "language_info": {
   "codemirror_mode": {
    "name": "ipython",
    "version": 3
   },
   "file_extension": ".py",
   "mimetype": "text/x-python",
   "name": "python",
   "nbconvert_exporter": "python",
   "pygments_lexer": "ipython3",
   "version": "3.9.7"
  },
  "orig_nbformat": 4
 },
 "nbformat": 4,
 "nbformat_minor": 2
}
